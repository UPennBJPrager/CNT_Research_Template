{
 "cells": [
  {
   "cell_type": "markdown",
   "metadata": {},
   "source": [
    "## About\n",
    "\n",
    "Code to read .xml file export from Apple Health\n",
    "Convert to individual csv files\n",
    "Final .h5 export "
   ]
  },
  {
   "cell_type": "code",
   "execution_count": 1,
   "metadata": {
    "execution": {
     "iopub.execute_input": "2022-03-11T16:43:36.894887Z",
     "iopub.status.busy": "2022-03-11T16:43:36.894714Z",
     "iopub.status.idle": "2022-03-11T16:43:36.902673Z",
     "shell.execute_reply": "2022-03-11T16:43:36.902170Z",
     "shell.execute_reply.started": "2022-03-11T16:43:36.894870Z"
    },
    "tags": []
   },
   "outputs": [],
   "source": [
    "from datetime import date, datetime, timedelta as td\n",
    "from time import mktime\n",
    "import pytz\n",
    "import numpy as np\n",
    "import pandas as pd\n",
    "import matplotlib.pyplot as plt\n",
    "import matplotlib.dates as mdates\n",
    "from dateutil import parser\n",
    "import os\n",
    "from tqdm import tqdm\n",
    "from parse import compile\n",
    "import sys\n",
    "sys.path.insert(1, './../tools/')\n",
    "from apple_parse import *"
   ]
  },
  {
   "cell_type": "code",
   "execution_count": 2,
   "metadata": {},
   "outputs": [],
   "source": [
    "## Instructions\n",
    "# 1. Set lb3_id\n",
    "lb3_id = \"LB3_005_phaseII\"\n",
    "# 2. set path_to_lb3_folder. This is where the LB3_XXx_phaseyy folder is located\n",
    "path_to_lb3_folder = \"/Users/jalpanchal/Documents/littlab/Data/\"\n",
    "path_to_lb3_folder = \"/gdrive/public/DATA/Human_Data/LB3_PIONEER/\"\n",
    "# 3. Run all cells below"
   ]
  },
  {
   "cell_type": "code",
   "execution_count": 3,
   "metadata": {},
   "outputs": [],
   "source": [
    "path_to_subject_folder = os.path.join(path_to_lb3_folder,lb3_id)\n",
    "path_to_wearables = os.path.join(path_to_subject_folder,\"wearables/\")\n",
    "path_to_preprocessed = os.path.join(path_to_wearables, \"pre-processed/\")\n",
    "path_to_raw_activity = os.path.join(path_to_wearables,\"raw/apple_health_export/\")\n",
    "path_to_activity_csvs = os.path.join(path_to_preprocessed,\"activity/\")"
   ]
  },
  {
   "cell_type": "code",
   "execution_count": 4,
   "metadata": {},
   "outputs": [],
   "source": [
    "###\n",
    "import xml.etree.ElementTree as ET"
   ]
  },
  {
   "cell_type": "code",
   "execution_count": 5,
   "metadata": {},
   "outputs": [
    {
     "name": "stdout",
     "output_type": "stream",
     "text": [
      "Folder exists\n",
      "Folder exists\n"
     ]
    }
   ],
   "source": [
    "# creates folder for saving pre-processed data\n",
    "try : \n",
    "    os.mkdir(path_to_preprocessed)\n",
    "    print(\"Folder created\")\n",
    "except:\n",
    "    print(\"Folder exists\")\n",
    "\n",
    "try : \n",
    "    os.mkdir(path_to_activity_csvs)\n",
    "    print(\"Folder created\")\n",
    "except:\n",
    "    print(\"Folder exists\")"
   ]
  },
  {
   "cell_type": "markdown",
   "metadata": {},
   "source": [
    "### extract csvs from export.xml"
   ]
  },
  {
   "cell_type": "code",
   "execution_count": 6,
   "metadata": {},
   "outputs": [],
   "source": [
    "###\n",
    "tree = ET.parse(os.path.join(path_to_raw_activity,\"export.xml\"))\n",
    "root = tree.getroot()\n",
    "record_list = [x.attrib for x in root.iter('Record')]\n",
    "record_data = pd.DataFrame(record_list)\n",
    "\n",
    "# proper type to dates\n",
    "for col in ['creationDate', 'startDate', 'endDate']:\n",
    "    record_data[col] = pd.to_datetime(record_data[col])\n",
    "\n",
    "# Converts long-form tag to nan if non-numeric (which is the case for sleep data)\n",
    "record_data['value'] = pd.to_numeric(record_data['value'], errors='coerce')\n",
    "\n",
    "# some records do not measure anything, just count occurences\n",
    "# filling with 1.0 (= one time) makes it easier to aggregate\n",
    "record_data['value'] = record_data['value'].fillna(1.0)\n",
    "\n",
    "# shorter observation names\n",
    "record_data['type'] = record_data['type'].str.replace('HKQuantityTypeIdentifier', '')\n",
    "record_data['type'] = record_data['type'].str.replace('HKCategoryTypeIdentifier', '')"
   ]
  },
  {
   "cell_type": "code",
   "execution_count": 7,
   "metadata": {},
   "outputs": [
    {
     "name": "stdout",
     "output_type": "stream",
     "text": [
      "The following devices have recordings:\n",
      "['Pioneer’s Apple\\xa0Watch' 'iPhone']\n"
     ]
    }
   ],
   "source": [
    "record_data[(record_data['sourceName'] == 'AW1 - Pioneer Watch') & (record_data['type'] == '')]\n",
    "print('The following devices have recordings:')\n",
    "print(record_data['sourceName'].unique())"
   ]
  },
  {
   "cell_type": "code",
   "execution_count": 8,
   "metadata": {},
   "outputs": [
    {
     "name": "stderr",
     "output_type": "stream",
     "text": [
      "/home1/w/wojemann/.local/lib/python3.6/site-packages/pandas/core/indexing.py:1743: SettingWithCopyWarning: \n",
      "A value is trying to be set on a copy of a slice from a DataFrame.\n",
      "Try using .loc[row_indexer,col_indexer] = value instead\n",
      "\n",
      "See the caveats in the documentation: https://pandas.pydata.org/pandas-docs/stable/user_guide/indexing.html#returning-a-view-versus-a-copy\n",
      "  isetter(ilocs[0], value)\n",
      "/home1/w/wojemann/.local/lib/python3.6/site-packages/pandas/core/indexing.py:1763: SettingWithCopyWarning: \n",
      "A value is trying to be set on a copy of a slice from a DataFrame.\n",
      "Try using .loc[row_indexer,col_indexer] = value instead\n",
      "\n",
      "See the caveats in the documentation: https://pandas.pydata.org/pandas-docs/stable/user_guide/indexing.html#returning-a-view-versus-a-copy\n",
      "  isetter(loc, value)\n",
      "/usr/lib/python3.6/site-packages/ipykernel_launcher.py:10: SettingWithCopyWarning: \n",
      "A value is trying to be set on a copy of a slice from a DataFrame.\n",
      "Try using .loc[row_indexer,col_indexer] = value instead\n",
      "\n",
      "See the caveats in the documentation: https://pandas.pydata.org/pandas-docs/stable/user_guide/indexing.html#returning-a-view-versus-a-copy\n",
      "  # Remove the CWD from sys.path while we load stuff.\n",
      "/usr/lib/python3.6/site-packages/ipykernel_launcher.py:11: SettingWithCopyWarning: \n",
      "A value is trying to be set on a copy of a slice from a DataFrame.\n",
      "Try using .loc[row_indexer,col_indexer] = value instead\n",
      "\n",
      "See the caveats in the documentation: https://pandas.pydata.org/pandas-docs/stable/user_guide/indexing.html#returning-a-view-versus-a-copy\n",
      "  # This is added back by InteractiveShellApp.init_path()\n",
      "/usr/lib/python3.6/site-packages/ipykernel_launcher.py:12: SettingWithCopyWarning: \n",
      "A value is trying to be set on a copy of a slice from a DataFrame.\n",
      "Try using .loc[row_indexer,col_indexer] = value instead\n",
      "\n",
      "See the caveats in the documentation: https://pandas.pydata.org/pandas-docs/stable/user_guide/indexing.html#returning-a-view-versus-a-copy\n",
      "  if sys.path[0] == '':\n"
     ]
    },
    {
     "data": {
      "text/html": [
       "<div>\n",
       "<style scoped>\n",
       "    .dataframe tbody tr th:only-of-type {\n",
       "        vertical-align: middle;\n",
       "    }\n",
       "\n",
       "    .dataframe tbody tr th {\n",
       "        vertical-align: top;\n",
       "    }\n",
       "\n",
       "    .dataframe thead th {\n",
       "        text-align: right;\n",
       "    }\n",
       "</style>\n",
       "<table border=\"1\" class=\"dataframe\">\n",
       "  <thead>\n",
       "    <tr style=\"text-align: right;\">\n",
       "      <th></th>\n",
       "      <th>type</th>\n",
       "      <th>sourceName</th>\n",
       "      <th>sourceVersion</th>\n",
       "      <th>device</th>\n",
       "      <th>unit</th>\n",
       "      <th>creationDate</th>\n",
       "      <th>startDate</th>\n",
       "      <th>endDate</th>\n",
       "      <th>value</th>\n",
       "      <th>sleepDuration</th>\n",
       "      <th>nightlySum</th>\n",
       "    </tr>\n",
       "  </thead>\n",
       "  <tbody>\n",
       "    <tr>\n",
       "      <th>16507</th>\n",
       "      <td>SleepAnalysis</td>\n",
       "      <td>0</td>\n",
       "      <td>8.1</td>\n",
       "      <td>NaN</td>\n",
       "      <td>NaN</td>\n",
       "      <td>10</td>\n",
       "      <td>2021-12-09 22:00:35-05:00</td>\n",
       "      <td>2021-12-09 22:30:05-05:00</td>\n",
       "      <td>1.0</td>\n",
       "      <td>0.491667</td>\n",
       "      <td>0.491667</td>\n",
       "    </tr>\n",
       "    <tr>\n",
       "      <th>16508</th>\n",
       "      <td>SleepAnalysis</td>\n",
       "      <td>0</td>\n",
       "      <td>8.1</td>\n",
       "      <td>NaN</td>\n",
       "      <td>NaN</td>\n",
       "      <td>10</td>\n",
       "      <td>2021-12-09 22:31:35-05:00</td>\n",
       "      <td>2021-12-10 00:08:05-05:00</td>\n",
       "      <td>1.0</td>\n",
       "      <td>1.608333</td>\n",
       "      <td>2.100000</td>\n",
       "    </tr>\n",
       "    <tr>\n",
       "      <th>16509</th>\n",
       "      <td>SleepAnalysis</td>\n",
       "      <td>0</td>\n",
       "      <td>8.1</td>\n",
       "      <td>NaN</td>\n",
       "      <td>NaN</td>\n",
       "      <td>10</td>\n",
       "      <td>2021-12-10 00:12:05-05:00</td>\n",
       "      <td>2021-12-10 02:14:35-05:00</td>\n",
       "      <td>1.0</td>\n",
       "      <td>2.041667</td>\n",
       "      <td>4.141667</td>\n",
       "    </tr>\n",
       "    <tr>\n",
       "      <th>16510</th>\n",
       "      <td>SleepAnalysis</td>\n",
       "      <td>0</td>\n",
       "      <td>8.1</td>\n",
       "      <td>NaN</td>\n",
       "      <td>NaN</td>\n",
       "      <td>10</td>\n",
       "      <td>2021-12-10 02:28:05-05:00</td>\n",
       "      <td>2021-12-10 04:58:35-05:00</td>\n",
       "      <td>1.0</td>\n",
       "      <td>2.508333</td>\n",
       "      <td>6.650000</td>\n",
       "    </tr>\n",
       "    <tr>\n",
       "      <th>16511</th>\n",
       "      <td>SleepAnalysis</td>\n",
       "      <td>0</td>\n",
       "      <td>8.1</td>\n",
       "      <td>NaN</td>\n",
       "      <td>NaN</td>\n",
       "      <td>10</td>\n",
       "      <td>2021-12-10 05:38:05-05:00</td>\n",
       "      <td>2021-12-10 05:39:05-05:00</td>\n",
       "      <td>1.0</td>\n",
       "      <td>0.016667</td>\n",
       "      <td>6.666667</td>\n",
       "    </tr>\n",
       "  </tbody>\n",
       "</table>\n",
       "</div>"
      ],
      "text/plain": [
       "                type  sourceName sourceVersion device unit  creationDate  \\\n",
       "16507  SleepAnalysis           0           8.1    NaN  NaN            10   \n",
       "16508  SleepAnalysis           0           8.1    NaN  NaN            10   \n",
       "16509  SleepAnalysis           0           8.1    NaN  NaN            10   \n",
       "16510  SleepAnalysis           0           8.1    NaN  NaN            10   \n",
       "16511  SleepAnalysis           0           8.1    NaN  NaN            10   \n",
       "\n",
       "                      startDate                   endDate  value  \\\n",
       "16507 2021-12-09 22:00:35-05:00 2021-12-09 22:30:05-05:00    1.0   \n",
       "16508 2021-12-09 22:31:35-05:00 2021-12-10 00:08:05-05:00    1.0   \n",
       "16509 2021-12-10 00:12:05-05:00 2021-12-10 02:14:35-05:00    1.0   \n",
       "16510 2021-12-10 02:28:05-05:00 2021-12-10 04:58:35-05:00    1.0   \n",
       "16511 2021-12-10 05:38:05-05:00 2021-12-10 05:39:05-05:00    1.0   \n",
       "\n",
       "       sleepDuration  nightlySum  \n",
       "16507       0.491667    0.491667  \n",
       "16508       1.608333    2.100000  \n",
       "16509       2.041667    4.141667  \n",
       "16510       2.508333    6.650000  \n",
       "16511       0.016667    6.666667  "
      ]
     },
     "execution_count": 8,
     "metadata": {},
     "output_type": "execute_result"
    }
   ],
   "source": [
    "###\n",
    "sleep_data = record_data[(record_data['type'] == 'SleepAnalysis') & record_data['sourceName'].str.contains('Watch')]\n",
    "for key in ['startDate','endDate','creationDate']:\n",
    "    sleep_data.at[:,key] = pd.DatetimeIndex(sleep_data[key]).tz_convert('US/Eastern')\n",
    "try:\n",
    "    sleep_data.at[:,'sourceName'] = sleep_data['sourceName'].str.split('-').apply(lambda x: int(x[0][2]))\n",
    "except:\n",
    "    sleep_data.at[:,'sourceName'] = 0\n",
    "\n",
    "sleep_data['creationDate'] = pd.DatetimeIndex(sleep_data.creationDate).day\n",
    "sleep_data['sleepDuration'] = ((sleep_data['endDate'] - sleep_data.startDate).astype('timedelta64[s]'))/3600\n",
    "sleep_data['nightlySum'] = sleep_data.groupby(['creationDate'])['sleepDuration'].cumsum()\n",
    "sleep_data.head()"
   ]
  },
  {
   "cell_type": "code",
   "execution_count": 9,
   "metadata": {},
   "outputs": [
    {
     "data": {
      "text/plain": [
       "array([0])"
      ]
     },
     "execution_count": 9,
     "metadata": {},
     "output_type": "execute_result"
    }
   ],
   "source": [
    "sleep_data.sourceName.unique()"
   ]
  },
  {
   "cell_type": "code",
   "execution_count": 10,
   "metadata": {},
   "outputs": [
    {
     "data": {
      "image/png": "[encoded data removed]",
      "text/plain": [
       "<Figure size 432x288 with 1 Axes>"
      ]
     },
     "metadata": {
      "needs_background": "light"
     },
     "output_type": "display_data"
    }
   ],
   "source": [
    "sns.barplot(x = sleep_data.startDate,y=sleep_data.nightlySum,hue=sleep_data.creationDate)\n",
    "\n",
    "# locs,labels = plt.xticks()\n",
    "# plt.plot(sleep_data.startDate,sleep_data.sleepDuration)\n",
    "plt.xticks([]);\n",
    "# plt.set_xticklabels(sleep_data.startDate.apply(datetime.time))\n",
    "# plt.xlabel();"
   ]
  },
  {
   "cell_type": "code",
   "execution_count": 11,
   "metadata": {},
   "outputs": [],
   "source": [
    "sleep_output = sleep_data[['startDate','endDate','creationDate',\n",
    "                           'sleepDuration','nightlySum']].set_index(['startDate']).sort_index()\n",
    "sleep_output.index.rename('timeStamp',inplace=True)"
   ]
  },
  {
   "cell_type": "code",
   "execution_count": 12,
   "metadata": {},
   "outputs": [
    {
     "data": {
      "text/plain": [
       "Timestamp('2021-12-09 22:30:05-0500', tz='US/Eastern')"
      ]
     },
     "execution_count": 12,
     "metadata": {},
     "output_type": "execute_result"
    }
   ],
   "source": [
    "sleep_output.iloc[0,0]"
   ]
  },
  {
   "cell_type": "markdown",
   "metadata": {},
   "source": [
    "## Fetch Meta data to trim"
   ]
  },
  {
   "cell_type": "code",
   "execution_count": 13,
   "metadata": {},
   "outputs": [],
   "source": [
    "meta_data = pd.read_csv(os.path.join(path_to_wearables, \"wearables_metadata.csv\"))"
   ]
  },
  {
   "cell_type": "code",
   "execution_count": 14,
   "metadata": {},
   "outputs": [
    {
     "data": {
      "text/html": [
       "<div>\n",
       "<style scoped>\n",
       "    .dataframe tbody tr th:only-of-type {\n",
       "        vertical-align: middle;\n",
       "    }\n",
       "\n",
       "    .dataframe tbody tr th {\n",
       "        vertical-align: top;\n",
       "    }\n",
       "\n",
       "    .dataframe thead th {\n",
       "        text-align: right;\n",
       "    }\n",
       "</style>\n",
       "<table border=\"1\" class=\"dataframe\">\n",
       "  <thead>\n",
       "    <tr style=\"text-align: right;\">\n",
       "      <th></th>\n",
       "      <th>property</th>\n",
       "      <th>value</th>\n",
       "    </tr>\n",
       "  </thead>\n",
       "  <tbody>\n",
       "    <tr>\n",
       "      <th>0</th>\n",
       "      <td>lb3_id</td>\n",
       "      <td>LB3_005_phaseII</td>\n",
       "    </tr>\n",
       "    <tr>\n",
       "      <th>1</th>\n",
       "      <td>watch_hand</td>\n",
       "      <td>right</td>\n",
       "    </tr>\n",
       "    <tr>\n",
       "      <th>2</th>\n",
       "      <td>study_start</td>\n",
       "      <td>12-09-2021 16:30</td>\n",
       "    </tr>\n",
       "    <tr>\n",
       "      <th>3</th>\n",
       "      <td>study_end</td>\n",
       "      <td>12-21-2021 20:05</td>\n",
       "    </tr>\n",
       "  </tbody>\n",
       "</table>\n",
       "</div>"
      ],
      "text/plain": [
       "      property             value\n",
       "0       lb3_id   LB3_005_phaseII\n",
       "1   watch_hand             right\n",
       "2  study_start  12-09-2021 16:30\n",
       "3    study_end  12-21-2021 20:05"
      ]
     },
     "execution_count": 14,
     "metadata": {},
     "output_type": "execute_result"
    }
   ],
   "source": [
    "meta_data"
   ]
  },
  {
   "cell_type": "markdown",
   "metadata": {},
   "source": [
    "## Trimming Sleep"
   ]
  },
  {
   "cell_type": "code",
   "execution_count": 15,
   "metadata": {},
   "outputs": [],
   "source": [
    "str_time = pd.to_datetime(meta_data['value'][meta_data['property']=='study_start'].values[0]).tz_localize('US/Eastern')\n",
    "end_time = pd.to_datetime(meta_data['value'][meta_data['property']=='study_end'].values[0]).tz_localize('US/Eastern')"
   ]
  },
  {
   "cell_type": "code",
   "execution_count": 16,
   "metadata": {},
   "outputs": [],
   "source": [
    "sleep_output = sleep_output[(sleep_output.index>=str_time) & (sleep_output.index<=end_time)]"
   ]
  },
  {
   "cell_type": "markdown",
   "metadata": {},
   "source": [
    "## Saving Sleep"
   ]
  },
  {
   "cell_type": "code",
   "execution_count": 17,
   "metadata": {},
   "outputs": [],
   "source": [
    "path_to_save_ansdata = os.path.join(path_to_preprocessed,\"watch_sleep.csv\")\n",
    "# #write dataframe to h5\n",
    "# sleep_output.to_hdf(path_to_save_ansdata, key=\"sleep\", mode ='w')\n",
    "sleep_output.to_csv(path_to_save_ansdata)"
   ]
  },
  {
   "cell_type": "markdown",
   "metadata": {},
   "source": [
    "## Plotting Sleep"
   ]
  },
  {
   "cell_type": "code",
   "execution_count": 18,
   "metadata": {},
   "outputs": [
    {
     "data": {
      "image/png": "[encoded data removed]",
      "text/plain": [
       "<Figure size 432x288 with 1 Axes>"
      ]
     },
     "metadata": {
      "needs_background": "light"
     },
     "output_type": "display_data"
    }
   ],
   "source": [
    "sns.scatterplot(x = sleep_output.index, y = sleep_output.nightlySum)\n",
    "plt.xticks(rotation=60)\n",
    "plt.vlines(sleep_output.index,0,sleep_output.nightlySum, alpha = .5)\n",
    "plt.ylabel('Hours of Sleep');"
   ]
  },
  {
   "cell_type": "code",
   "execution_count": 19,
   "metadata": {
    "scrolled": true
   },
   "outputs": [
    {
     "data": {
      "text/html": [
       "<div>\n",
       "<style scoped>\n",
       "    .dataframe tbody tr th:only-of-type {\n",
       "        vertical-align: middle;\n",
       "    }\n",
       "\n",
       "    .dataframe tbody tr th {\n",
       "        vertical-align: top;\n",
       "    }\n",
       "\n",
       "    .dataframe thead th {\n",
       "        text-align: right;\n",
       "    }\n",
       "</style>\n",
       "<table border=\"1\" class=\"dataframe\">\n",
       "  <thead>\n",
       "    <tr style=\"text-align: right;\">\n",
       "      <th></th>\n",
       "      <th>numWakes</th>\n",
       "      <th>numRem</th>\n",
       "    </tr>\n",
       "    <tr>\n",
       "      <th>creationDate</th>\n",
       "      <th></th>\n",
       "      <th></th>\n",
       "    </tr>\n",
       "  </thead>\n",
       "  <tbody>\n",
       "    <tr>\n",
       "      <th>10</th>\n",
       "      <td>6</td>\n",
       "      <td>3.0</td>\n",
       "    </tr>\n",
       "    <tr>\n",
       "      <th>11</th>\n",
       "      <td>7</td>\n",
       "      <td>0.0</td>\n",
       "    </tr>\n",
       "    <tr>\n",
       "      <th>12</th>\n",
       "      <td>6</td>\n",
       "      <td>1.0</td>\n",
       "    </tr>\n",
       "    <tr>\n",
       "      <th>13</th>\n",
       "      <td>22</td>\n",
       "      <td>0.0</td>\n",
       "    </tr>\n",
       "    <tr>\n",
       "      <th>14</th>\n",
       "      <td>12</td>\n",
       "      <td>0.0</td>\n",
       "    </tr>\n",
       "    <tr>\n",
       "      <th>17</th>\n",
       "      <td>2</td>\n",
       "      <td>1.0</td>\n",
       "    </tr>\n",
       "    <tr>\n",
       "      <th>18</th>\n",
       "      <td>5</td>\n",
       "      <td>0.0</td>\n",
       "    </tr>\n",
       "    <tr>\n",
       "      <th>19</th>\n",
       "      <td>14</td>\n",
       "      <td>0.0</td>\n",
       "    </tr>\n",
       "    <tr>\n",
       "      <th>20</th>\n",
       "      <td>13</td>\n",
       "      <td>0.0</td>\n",
       "    </tr>\n",
       "    <tr>\n",
       "      <th>21</th>\n",
       "      <td>14</td>\n",
       "      <td>1.0</td>\n",
       "    </tr>\n",
       "  </tbody>\n",
       "</table>\n",
       "</div>"
      ],
      "text/plain": [
       "              numWakes  numRem\n",
       "creationDate                  \n",
       "10                   6     3.0\n",
       "11                   7     0.0\n",
       "12                   6     1.0\n",
       "13                  22     0.0\n",
       "14                  12     0.0\n",
       "17                   2     1.0\n",
       "18                   5     0.0\n",
       "19                  14     0.0\n",
       "20                  13     0.0\n",
       "21                  14     1.0"
      ]
     },
     "execution_count": 19,
     "metadata": {},
     "output_type": "execute_result"
    }
   ],
   "source": [
    "sleep_summary = pd.DataFrame()\n",
    "\n",
    "sleep_summary['numWakes'] = sleep_output.groupby(['creationDate'])['nightlySum'].count()-1\n",
    "sleep_summary.reset_index(inplace=True)\n",
    "sleep_output['clipNumREM'] = sleep_output['sleepDuration']//1.5\n",
    "sleep_summary.loc[:,'numRem'] = sleep_output.groupby(['creationDate'])['clipNumREM'].sum().to_numpy()\n",
    "sleep_summary.set_index(['creationDate'],inplace=True)\n",
    "sleep_summary.head(20)"
   ]
  },
  {
   "cell_type": "code",
   "execution_count": 20,
   "metadata": {},
   "outputs": [],
   "source": [
    "sleep_summary.to_csv(os.path.join(path_to_preprocessed,\"watch_sleep_summary.csv\"))"
   ]
  },
  {
   "cell_type": "code",
   "execution_count": null,
   "metadata": {},
   "outputs": [],
   "source": []
  }
 ],
 "metadata": {
  "kernelspec": {
   "display_name": "Python 3 (ipykernel)",
   "language": "python",
   "name": "python3"
  },
  "language_info": {
   "codemirror_mode": {
    "name": "ipython",
    "version": 3
   },
   "file_extension": ".py",
   "mimetype": "text/x-python",
   "name": "python",
   "nbconvert_exporter": "python",
   "pygments_lexer": "ipython3",
   "version": "3.8.13"
  },
  "vscode": {
   "interpreter": {
    "hash": "c5c3c34169dd55cd8a06fd6998fb6b031627487c3a921bda7b9489e86debbe22"
   }
  }
 },
 "nbformat": 4,
 "nbformat_minor": 5
}
