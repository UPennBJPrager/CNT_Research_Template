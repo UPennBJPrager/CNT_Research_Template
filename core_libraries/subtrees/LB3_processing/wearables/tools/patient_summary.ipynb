{
 "cells": [
  {
   "cell_type": "code",
   "execution_count": 1,
   "metadata": {},
   "outputs": [],
   "source": [
    "from datetime import date, datetime, timedelta as td\n",
    "from time import mktime\n",
    "import pytz\n",
    "import numpy as np\n",
    "import pandas as pd\n",
    "import matplotlib.pyplot as plt\n",
    "import matplotlib.dates as mdates\n",
    "from dateutil import parser\n",
    "import os\n",
    "from tqdm import tqdm\n",
    "from parse import compile\n",
    "import sys\n",
    "sys.path.insert(1, './../tools/')\n",
    "from apple_parse import *"
   ]
  },
  {
   "cell_type": "code",
   "execution_count": 2,
   "metadata": {},
   "outputs": [],
   "source": [
    "## Instructions\n",
    "# 1. Set lb3_id\n",
    "\n",
    "# 2. set path_to_lb3_folder. This is where the LB3_XXx_phaseyy folder is located\n",
    "\n",
    "# 3. Run all cells below"
   ]
  },
  {
   "cell_type": "code",
   "execution_count": 3,
   "metadata": {},
   "outputs": [
    {
     "data": {
      "text/plain": [
       "3.7383333333333333"
      ]
     },
     "metadata": {},
     "output_type": "display_data"
    },
    {
     "name": "stdout",
     "output_type": "stream",
     "text": [
      "Total number of nights: 5\n",
      "mean number of wakes: 14.8\n",
      "mean number of rem cycles: 0.4\n"
     ]
    },
    {
     "data": {
      "text/plain": [
       "4.668333333333333"
      ]
     },
     "metadata": {},
     "output_type": "display_data"
    },
    {
     "name": "stdout",
     "output_type": "stream",
     "text": [
      "Total number of nights: 10\n",
      "mean number of wakes: 10.1\n",
      "mean number of rem cycles: 0.6\n"
     ]
    },
    {
     "data": {
      "text/plain": [
       "5.827777777777778"
      ]
     },
     "metadata": {},
     "output_type": "display_data"
    },
    {
     "name": "stdout",
     "output_type": "stream",
     "text": [
      "Total number of nights: 3\n",
      "mean number of wakes: 14.0\n",
      "mean number of rem cycles: 0.6666666666666666\n"
     ]
    },
    {
     "data": {
      "text/plain": [
       "7.175000000000001"
      ]
     },
     "metadata": {},
     "output_type": "display_data"
    },
    {
     "name": "stdout",
     "output_type": "stream",
     "text": [
      "Total number of nights: 4\n",
      "mean number of wakes: 10.75\n",
      "mean number of rem cycles: 1.75\n"
     ]
    },
    {
     "data": {
      "text/plain": [
       "3.841666666666667"
      ]
     },
     "metadata": {},
     "output_type": "display_data"
    },
    {
     "name": "stdout",
     "output_type": "stream",
     "text": [
      "Total number of nights: 2\n",
      "mean number of wakes: 9.5\n",
      "mean number of rem cycles: 0.0\n"
     ]
    },
    {
     "data": {
      "text/plain": [
       "6.591666666666667"
      ]
     },
     "metadata": {},
     "output_type": "display_data"
    },
    {
     "name": "stdout",
     "output_type": "stream",
     "text": [
      "Total number of nights: 1\n",
      "mean number of wakes: 5.0\n",
      "mean number of rem cycles: 3.0\n"
     ]
    }
   ],
   "source": [
    "for subject in ['04','05','06','07','10','11']:\n",
    "    lb3_id = \"LB3_0\" + subject + '_phaseII'\n",
    "    path_to_lb3_folder = \"/Users/jalpanchal/Documents/littlab/Data/\"\n",
    "    path_to_lb3_folder = \"/gdrive/public/DATA/Human_Data/LB3_PIONEER/\"\n",
    "    path_to_subject_folder = os.path.join(path_to_lb3_folder,lb3_id)\n",
    "    path_to_wearables = os.path.join(path_to_subject_folder,\"wearables/\")\n",
    "    path_to_preprocessed = os.path.join(path_to_wearables, \"pre-processed/\")\n",
    "    path_to_raw_activity = os.path.join(path_to_wearables,\"raw/apple_health_export/\")\n",
    "    path_to_activity_csvs = os.path.join(path_to_preprocessed,\"activity/\")\n",
    "    \n",
    "    data = pd.read_csv(path_to_preprocessed+'watch_sleep.csv')\n",
    "    display(data.groupby(['creationDate'])['nightlySum'].max().mean())\n",
    "    summary_data = pd.read_csv(path_to_preprocessed+'watch_sleep_summary.csv')\n",
    "    num_nights = len(summary_data)\n",
    "    mean_wakes = summary_data['numWakes'].mean()\n",
    "    num_rem = summary_data['numRem'].mean();\n",
    "    print('Total number of nights: ' + str(num_nights) + \"\\nmean number of wakes: \" + str(mean_wakes) + '\\nmean number of rem cycles: ' + str(num_rem))"
   ]
  },
  {
   "cell_type": "code",
   "execution_count": 6,
   "metadata": {},
   "outputs": [
    {
     "data": {
      "text/html": [
       "<div>\n",
       "<style scoped>\n",
       "    .dataframe tbody tr th:only-of-type {\n",
       "        vertical-align: middle;\n",
       "    }\n",
       "\n",
       "    .dataframe tbody tr th {\n",
       "        vertical-align: top;\n",
       "    }\n",
       "\n",
       "    .dataframe thead th {\n",
       "        text-align: right;\n",
       "    }\n",
       "</style>\n",
       "<table border=\"1\" class=\"dataframe\">\n",
       "  <thead>\n",
       "    <tr style=\"text-align: right;\">\n",
       "      <th></th>\n",
       "      <th>timeStamp</th>\n",
       "      <th>endDate</th>\n",
       "      <th>creationDate</th>\n",
       "      <th>sleepDuration</th>\n",
       "      <th>nightlySum</th>\n",
       "    </tr>\n",
       "  </thead>\n",
       "  <tbody>\n",
       "    <tr>\n",
       "      <th>0</th>\n",
       "      <td>2022-09-16 00:45:34-04:00</td>\n",
       "      <td>2022-09-16 04:58:04-04:00</td>\n",
       "      <td>16</td>\n",
       "      <td>4.208333</td>\n",
       "      <td>4.208333</td>\n",
       "    </tr>\n",
       "    <tr>\n",
       "      <th>1</th>\n",
       "      <td>2022-09-16 05:12:34-04:00</td>\n",
       "      <td>2022-09-16 05:38:34-04:00</td>\n",
       "      <td>16</td>\n",
       "      <td>0.433333</td>\n",
       "      <td>4.641667</td>\n",
       "    </tr>\n",
       "    <tr>\n",
       "      <th>2</th>\n",
       "      <td>2022-09-16 05:40:04-04:00</td>\n",
       "      <td>2022-09-16 07:22:04-04:00</td>\n",
       "      <td>16</td>\n",
       "      <td>1.700000</td>\n",
       "      <td>6.341667</td>\n",
       "    </tr>\n",
       "    <tr>\n",
       "      <th>3</th>\n",
       "      <td>2022-09-16 07:34:34-04:00</td>\n",
       "      <td>2022-09-16 07:41:04-04:00</td>\n",
       "      <td>16</td>\n",
       "      <td>0.108333</td>\n",
       "      <td>6.450000</td>\n",
       "    </tr>\n",
       "    <tr>\n",
       "      <th>4</th>\n",
       "      <td>2022-09-16 09:10:04-04:00</td>\n",
       "      <td>2022-09-16 09:13:04-04:00</td>\n",
       "      <td>16</td>\n",
       "      <td>0.050000</td>\n",
       "      <td>6.500000</td>\n",
       "    </tr>\n",
       "    <tr>\n",
       "      <th>5</th>\n",
       "      <td>2022-09-16 10:02:34-04:00</td>\n",
       "      <td>2022-09-16 10:08:04-04:00</td>\n",
       "      <td>16</td>\n",
       "      <td>0.091667</td>\n",
       "      <td>6.591667</td>\n",
       "    </tr>\n",
       "  </tbody>\n",
       "</table>\n",
       "</div>"
      ],
      "text/plain": [
       "                   timeStamp                    endDate  creationDate  \\\n",
       "0  2022-09-16 00:45:34-04:00  2022-09-16 04:58:04-04:00            16   \n",
       "1  2022-09-16 05:12:34-04:00  2022-09-16 05:38:34-04:00            16   \n",
       "2  2022-09-16 05:40:04-04:00  2022-09-16 07:22:04-04:00            16   \n",
       "3  2022-09-16 07:34:34-04:00  2022-09-16 07:41:04-04:00            16   \n",
       "4  2022-09-16 09:10:04-04:00  2022-09-16 09:13:04-04:00            16   \n",
       "5  2022-09-16 10:02:34-04:00  2022-09-16 10:08:04-04:00            16   \n",
       "\n",
       "   sleepDuration  nightlySum  \n",
       "0       4.208333    4.208333  \n",
       "1       0.433333    4.641667  \n",
       "2       1.700000    6.341667  \n",
       "3       0.108333    6.450000  \n",
       "4       0.050000    6.500000  \n",
       "5       0.091667    6.591667  "
      ]
     },
     "execution_count": 6,
     "metadata": {},
     "output_type": "execute_result"
    }
   ],
   "source": [
    "pd.read_csv(os.path.join(path_to_preprocessed, \"watch_sleep.csv\"))"
   ]
  },
  {
   "cell_type": "code",
   "execution_count": 4,
   "metadata": {},
   "outputs": [
    {
     "name": "stdout",
     "output_type": "stream",
     "text": [
      "LB3_004_phaseII\n",
      "264.5833333333333\n",
      "LB3_005_phaseII\n",
      "291.5833333333333\n",
      "LB3_006_phaseII\n",
      "122.5\n",
      "LB3_007_phaseII\n",
      "145.65\n"
     ]
    },
    {
     "ename": "ValueError",
     "evalue": "time data '8/25/22 18:53' does not match format '%m-%d-%Y %H:%M'",
     "output_type": "error",
     "traceback": [
      "\u001b[0;31m---------------------------------------------------------------------------\u001b[0m",
      "\u001b[0;31mValueError\u001b[0m                                Traceback (most recent call last)",
      "\u001b[1;32m/mnt/leif/littlab/users/pattnaik/LB3_processing/wearables/tools/patient_summary.ipynb Cell 4\u001b[0m in \u001b[0;36m<cell line: 1>\u001b[0;34m()\u001b[0m\n\u001b[1;32m     <a href='vscode-notebook-cell://ssh-remote%2Bpioneer/mnt/leif/littlab/users/pattnaik/LB3_processing/wearables/tools/patient_summary.ipynb#W3sdnNjb2RlLXJlbW90ZQ%3D%3D?line=10'>11</a>\u001b[0m wearables_metadata \u001b[39m=\u001b[39m pd\u001b[39m.\u001b[39mread_csv(os\u001b[39m.\u001b[39mpath\u001b[39m.\u001b[39mjoin(path_to_wearables, \u001b[39m\"\u001b[39m\u001b[39mwearables_metadata.csv\u001b[39m\u001b[39m\"\u001b[39m))\n\u001b[1;32m     <a href='vscode-notebook-cell://ssh-remote%2Bpioneer/mnt/leif/littlab/users/pattnaik/LB3_processing/wearables/tools/patient_summary.ipynb#W3sdnNjb2RlLXJlbW90ZQ%3D%3D?line=12'>13</a>\u001b[0m study_start \u001b[39m=\u001b[39m wearables_metadata[wearables_metadata[\u001b[39m'\u001b[39m\u001b[39mproperty\u001b[39m\u001b[39m'\u001b[39m] \u001b[39m==\u001b[39m \u001b[39m'\u001b[39m\u001b[39mstudy_start\u001b[39m\u001b[39m'\u001b[39m][\u001b[39m'\u001b[39m\u001b[39mvalue\u001b[39m\u001b[39m'\u001b[39m]\u001b[39m.\u001b[39mvalues[\u001b[39m0\u001b[39m]\n\u001b[0;32m---> <a href='vscode-notebook-cell://ssh-remote%2Bpioneer/mnt/leif/littlab/users/pattnaik/LB3_processing/wearables/tools/patient_summary.ipynb#W3sdnNjb2RlLXJlbW90ZQ%3D%3D?line=13'>14</a>\u001b[0m study_start \u001b[39m=\u001b[39m datetime\u001b[39m.\u001b[39;49mstrptime(study_start, \u001b[39m\"\u001b[39;49m\u001b[39m%\u001b[39;49m\u001b[39mm-\u001b[39;49m\u001b[39m%d\u001b[39;49;00m\u001b[39m-\u001b[39;49m\u001b[39m%\u001b[39;49m\u001b[39mY \u001b[39;49m\u001b[39m%\u001b[39;49m\u001b[39mH:\u001b[39;49m\u001b[39m%\u001b[39;49m\u001b[39mM\u001b[39;49m\u001b[39m\"\u001b[39;49m)\n\u001b[1;32m     <a href='vscode-notebook-cell://ssh-remote%2Bpioneer/mnt/leif/littlab/users/pattnaik/LB3_processing/wearables/tools/patient_summary.ipynb#W3sdnNjb2RlLXJlbW90ZQ%3D%3D?line=15'>16</a>\u001b[0m study_end \u001b[39m=\u001b[39m wearables_metadata[wearables_metadata[\u001b[39m'\u001b[39m\u001b[39mproperty\u001b[39m\u001b[39m'\u001b[39m] \u001b[39m==\u001b[39m \u001b[39m'\u001b[39m\u001b[39mstudy_end\u001b[39m\u001b[39m'\u001b[39m][\u001b[39m'\u001b[39m\u001b[39mvalue\u001b[39m\u001b[39m'\u001b[39m]\u001b[39m.\u001b[39mvalues[\u001b[39m0\u001b[39m]\n\u001b[1;32m     <a href='vscode-notebook-cell://ssh-remote%2Bpioneer/mnt/leif/littlab/users/pattnaik/LB3_processing/wearables/tools/patient_summary.ipynb#W3sdnNjb2RlLXJlbW90ZQ%3D%3D?line=16'>17</a>\u001b[0m study_end \u001b[39m=\u001b[39m datetime\u001b[39m.\u001b[39mstrptime(study_end, \u001b[39m\"\u001b[39m\u001b[39m%\u001b[39m\u001b[39mm-\u001b[39m\u001b[39m%d\u001b[39;00m\u001b[39m-\u001b[39m\u001b[39m%\u001b[39m\u001b[39mY \u001b[39m\u001b[39m%\u001b[39m\u001b[39mH:\u001b[39m\u001b[39m%\u001b[39m\u001b[39mM\u001b[39m\u001b[39m\"\u001b[39m)\n",
      "File \u001b[0;32m~/.conda/envs/lb3/lib/python3.8/_strptime.py:568\u001b[0m, in \u001b[0;36m_strptime_datetime\u001b[0;34m(cls, data_string, format)\u001b[0m\n\u001b[1;32m    565\u001b[0m \u001b[39mdef\u001b[39;00m \u001b[39m_strptime_datetime\u001b[39m(\u001b[39mcls\u001b[39m, data_string, \u001b[39mformat\u001b[39m\u001b[39m=\u001b[39m\u001b[39m\"\u001b[39m\u001b[39m%a\u001b[39;00m\u001b[39m \u001b[39m\u001b[39m%\u001b[39m\u001b[39mb \u001b[39m\u001b[39m%d\u001b[39;00m\u001b[39m \u001b[39m\u001b[39m%\u001b[39m\u001b[39mH:\u001b[39m\u001b[39m%\u001b[39m\u001b[39mM:\u001b[39m\u001b[39m%\u001b[39m\u001b[39mS \u001b[39m\u001b[39m%\u001b[39m\u001b[39mY\u001b[39m\u001b[39m\"\u001b[39m):\n\u001b[1;32m    566\u001b[0m     \u001b[39m\"\"\"Return a class cls instance based on the input string and the\u001b[39;00m\n\u001b[1;32m    567\u001b[0m \u001b[39m    format string.\"\"\"\u001b[39;00m\n\u001b[0;32m--> 568\u001b[0m     tt, fraction, gmtoff_fraction \u001b[39m=\u001b[39m _strptime(data_string, \u001b[39mformat\u001b[39;49m)\n\u001b[1;32m    569\u001b[0m     tzname, gmtoff \u001b[39m=\u001b[39m tt[\u001b[39m-\u001b[39m\u001b[39m2\u001b[39m:]\n\u001b[1;32m    570\u001b[0m     args \u001b[39m=\u001b[39m tt[:\u001b[39m6\u001b[39m] \u001b[39m+\u001b[39m (fraction,)\n",
      "File \u001b[0;32m~/.conda/envs/lb3/lib/python3.8/_strptime.py:349\u001b[0m, in \u001b[0;36m_strptime\u001b[0;34m(data_string, format)\u001b[0m\n\u001b[1;32m    347\u001b[0m found \u001b[39m=\u001b[39m format_regex\u001b[39m.\u001b[39mmatch(data_string)\n\u001b[1;32m    348\u001b[0m \u001b[39mif\u001b[39;00m \u001b[39mnot\u001b[39;00m found:\n\u001b[0;32m--> 349\u001b[0m     \u001b[39mraise\u001b[39;00m \u001b[39mValueError\u001b[39;00m(\u001b[39m\"\u001b[39m\u001b[39mtime data \u001b[39m\u001b[39m%r\u001b[39;00m\u001b[39m does not match format \u001b[39m\u001b[39m%r\u001b[39;00m\u001b[39m\"\u001b[39m \u001b[39m%\u001b[39m\n\u001b[1;32m    350\u001b[0m                      (data_string, \u001b[39mformat\u001b[39m))\n\u001b[1;32m    351\u001b[0m \u001b[39mif\u001b[39;00m \u001b[39mlen\u001b[39m(data_string) \u001b[39m!=\u001b[39m found\u001b[39m.\u001b[39mend():\n\u001b[1;32m    352\u001b[0m     \u001b[39mraise\u001b[39;00m \u001b[39mValueError\u001b[39;00m(\u001b[39m\"\u001b[39m\u001b[39munconverted data remains: \u001b[39m\u001b[39m%s\u001b[39;00m\u001b[39m\"\u001b[39m \u001b[39m%\u001b[39m\n\u001b[1;32m    353\u001b[0m                       data_string[found\u001b[39m.\u001b[39mend():])\n",
      "\u001b[0;31mValueError\u001b[0m: time data '8/25/22 18:53' does not match format '%m-%d-%Y %H:%M'"
     ]
    }
   ],
   "source": [
    "for subject in ['04','05','06','07','10','11']:\n",
    "    lb3_id = \"LB3_0\" + subject + '_phaseII'\n",
    "    path_to_lb3_folder = \"/Users/jalpanchal/Documents/littlab/Data/\"\n",
    "    path_to_lb3_folder = \"/gdrive/public/DATA/Human_Data/LB3_PIONEER/\"\n",
    "    path_to_subject_folder = os.path.join(path_to_lb3_folder,lb3_id)\n",
    "    path_to_wearables = os.path.join(path_to_subject_folder,\"wearables/\")\n",
    "    path_to_preprocessed = os.path.join(path_to_wearables, \"pre-processed/\")\n",
    "    path_to_raw_activity = os.path.join(path_to_wearables,\"raw/apple_health_export/\")\n",
    "    path_to_activity_csvs = os.path.join(path_to_preprocessed,\"activity/\")\n",
    "\n",
    "    wearables_metadata = pd.read_csv(os.path.join(path_to_wearables, \"wearables_metadata.csv\"))\n",
    "\n",
    "    study_start = pd.to_datetime(wearables_metadata['value'][wearables_metadata['property']=='study_start'].values[0]).tz_localize('US/Eastern')\n",
    "    study_end = pd.to_datetime(wearables_metadata['value'][wearables_metadata['property']=='study_end'].values[0]).tz_localize('US/Eastern')\n",
    "\n",
    "    total_hours = (study_end - study_start).total_seconds() / (60 * 60)\n",
    "\n",
    "    print(lb3_id)\n",
    "    print(total_hours)\n",
    "    # acc = fetch_acc_data_h5(lb3_id, path_to_lb3_folder)\n",
    "    # hr = fetch_watch_hr_data_h5(lb3_id, path_to_lb3_folder)\n",
    "\n",
    "    # acc = acc[(acc.index>=study_start) & (acc.index<=study_end)]\n",
    "    # hr = hr[(hr.index>=study_start) & (hr.index<=study_end)]\n",
    "\n",
    "    # break"
   ]
  },
  {
   "cell_type": "code",
   "execution_count": 5,
   "metadata": {},
   "outputs": [
    {
     "data": {
      "text/plain": [
       "'/gdrive/public/DATA/Human_Data/LB3_PIONEER/LB3_010_phaseII/wearables/'"
      ]
     },
     "execution_count": 5,
     "metadata": {},
     "output_type": "execute_result"
    }
   ],
   "source": [
    "path_to_wearables"
   ]
  },
  {
   "cell_type": "code",
   "execution_count": null,
   "metadata": {},
   "outputs": [],
   "source": []
  }
 ],
 "metadata": {
  "kernelspec": {
   "display_name": "Python 3.8.13 ('lb3')",
   "language": "python",
   "name": "python3"
  },
  "language_info": {
   "codemirror_mode": {
    "name": "ipython",
    "version": 3
   },
   "file_extension": ".py",
   "mimetype": "text/x-python",
   "name": "python",
   "nbconvert_exporter": "python",
   "pygments_lexer": "ipython3",
   "version": "3.8.13 (default, Mar 28 2022, 11:38:47) \n[GCC 7.5.0]"
  },
  "vscode": {
   "interpreter": {
    "hash": "c5c3c34169dd55cd8a06fd6998fb6b031627487c3a921bda7b9489e86debbe22"
   }
  }
 },
 "nbformat": 4,
 "nbformat_minor": 2
}
